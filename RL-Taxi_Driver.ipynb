{
 "cells": [
  {
   "cell_type": "markdown",
   "metadata": {},
   "source": [
    "###  This program will solve the Taxi problem using RL Q-learning¶\n",
    "\n",
    "<img src= \"Reinforcement_Learning_Taxi_Env.width-1200.png\" width=\"300\" height=\"300\" align=\"centr\">\n"
   ]
  },
  {
   "cell_type": "code",
   "execution_count": 36,
   "metadata": {},
   "outputs": [],
   "source": [
    "import gym\n",
    "import numpy as np"
   ]
  },
  {
   "cell_type": "code",
   "execution_count": 37,
   "metadata": {},
   "outputs": [],
   "source": [
    "env = gym.make('Taxi-v3')"
   ]
  },
  {
   "cell_type": "code",
   "execution_count": 38,
   "metadata": {},
   "outputs": [
    {
     "name": "stdout",
     "output_type": "stream",
     "text": [
      "Action size = 6\n"
     ]
    }
   ],
   "source": [
    "# print the action space size\n",
    "action_size = env.action_space.n\n",
    "print(\"Action size = {}\".format(action_size))"
   ]
  },
  {
   "cell_type": "code",
   "execution_count": 39,
   "metadata": {},
   "outputs": [
    {
     "name": "stdout",
     "output_type": "stream",
     "text": [
      "State size = 500 \n"
     ]
    }
   ],
   "source": [
    "# print state space size\n",
    "state_size = env.observation_space.n\n",
    "print(\"State size = {} \".format(state_size))"
   ]
  },
  {
   "cell_type": "code",
   "execution_count": 40,
   "metadata": {},
   "outputs": [
    {
     "name": "stdout",
     "output_type": "stream",
     "text": [
      "[[0. 0. 0. 0. 0. 0.]\n",
      " [0. 0. 0. 0. 0. 0.]\n",
      " [0. 0. 0. 0. 0. 0.]\n",
      " ...\n",
      " [0. 0. 0. 0. 0. 0.]\n",
      " [0. 0. 0. 0. 0. 0.]\n",
      " [0. 0. 0. 0. 0. 0.]]\n"
     ]
    }
   ],
   "source": [
    "# initialize a Q - table of size state_size X action_size entry for each of the 6 action and 500 states\n",
    "q_table = np.zeros((state_size, action_size))\n",
    "print(q_table)"
   ]
  },
  {
   "cell_type": "code",
   "execution_count": 47,
   "metadata": {},
   "outputs": [],
   "source": [
    "# set standard RL parameters\n",
    "alpha = 0.7  # Learning Rate - alpha\n",
    "gamma = 0.6  # Discounting Factor - gamma\n",
    "\n",
    "# Number of episodes \n",
    "num_of_episode = 50000 \n",
    "max_steps = 99  # Max Steps per episode\n",
    "\n",
    "#  Exploration/Exploitation  parameters\n",
    "epsilon = 1.0  # Exploration rate\n",
    "max_epsilon = 1.0  # Exploration probability at start\n",
    "min_epsilon = 0.01  # Minimum exploration probability\n",
    "decay_rate = 0.01  # Exponential decay rate for exploration prob"
   ]
  },
  {
   "cell_type": "code",
   "execution_count": 48,
   "metadata": {},
   "outputs": [
    {
     "name": "stdout",
     "output_type": "stream",
     "text": [
      "End Training\n"
     ]
    }
   ],
   "source": [
    "for episode in range(num_of_episode):\n",
    "    \n",
    "    # Reset the environment\n",
    "    state = env.reset() \n",
    "        \n",
    "    for step in range(max_steps):\n",
    "        \n",
    "        # choose an action according to epsilon-greedy policy\n",
    "        # If rand number < less than epsilon - take a random choice (exploration) \n",
    "        if np.random.uniform(0, 1) < epsilon:\n",
    "            action = env.action_space.sample()\n",
    "            \n",
    "        # else take action with maximum expected future reward(exploitation)\n",
    "        else:\n",
    "            action = np.argmax(q_table[state, :])\n",
    "           \n",
    "\n",
    "        # take a step \n",
    "        new_state, reward, done, info = env.step(action)\n",
    "\n",
    "        # Update Q(s,a):= Q(s,a) + alpha * [R(s,a) + gamma * max Q(s',a') - Q(s,a)]\n",
    "        q_table[state, action] = q_table[state, action] + alpha * (reward + gamma \n",
    "                                                                   * np.max(q_table[new_state, :]) \n",
    "                                                                   - q_table[state, action])\n",
    "        # set new state as cuurent state\n",
    "        state = new_state\n",
    "\n",
    "        # If done then finish episode\n",
    "        if done:\n",
    "            break\n",
    "\n",
    "    # decrease epsilon \n",
    "    epsilon = min_epsilon + (max_epsilon - min_epsilon) * np.exp(-decay_rate * episode)\n",
    "\n",
    "env.reset()\n",
    "print(\"End Training\")"
   ]
  },
  {
   "cell_type": "code",
   "execution_count": 63,
   "metadata": {},
   "outputs": [
    {
     "name": "stdout",
     "output_type": "stream",
     "text": [
      "Score = 4\n",
      "Score = 10\n",
      "Score = 8\n",
      "Score = 8\n",
      "Score = 6\n",
      "Score = 8\n",
      "Score = 5\n",
      "Score = 9\n",
      "Score = 4\n",
      "Score = 4\n",
      "Score = 14\n",
      "Score = 9\n",
      "Score = 6\n",
      "Score = 9\n",
      "Score = 8\n",
      "Score = 6\n",
      "Score = 7\n",
      "Score = 7\n",
      "Score = 7\n",
      "Score = 9\n",
      "Score = 11\n",
      "Score = 6\n",
      "Score = 7\n",
      "Score = 9\n",
      "Score = 10\n",
      "Score = 5\n",
      "Score = 7\n",
      "Score = 8\n",
      "Score = 5\n",
      "Score = 3\n",
      "Score = 7\n",
      "Score = 7\n",
      "Score = 9\n",
      "Score = 14\n",
      "Score = 4\n",
      "Score = 8\n",
      "Score = 10\n",
      "Score = 10\n",
      "Score = 13\n",
      "Score = 12\n",
      "Score = 3\n",
      "Score = 6\n",
      "Score = 3\n",
      "Score = 6\n",
      "Score = 7\n",
      "Score = 7\n",
      "Score = 8\n",
      "Score = 5\n",
      "Score = 11\n",
      "Score = 9\n",
      "Score = 10\n",
      "Score = 7\n",
      "Score = 8\n",
      "Score = 10\n",
      "Score = 12\n",
      "Score = 7\n",
      "Score = 7\n",
      "Score = 8\n",
      "Score = 9\n",
      "Score = 10\n",
      "Score = 8\n",
      "Score = 7\n",
      "Score = 6\n",
      "Score = 9\n",
      "Score = 13\n",
      "Score = 5\n",
      "Score = 8\n",
      "Score = 9\n",
      "Score = 4\n",
      "Score = 10\n",
      "Score = 12\n",
      "Score = 4\n",
      "Score = 9\n",
      "Score = 7\n",
      "Score = 8\n",
      "Score = 6\n",
      "Score = 8\n",
      "Score = 8\n",
      "Score = 5\n",
      "Score = 8\n",
      "Score = 9\n",
      "Score = 6\n",
      "Score = 8\n",
      "Score = 5\n",
      "Score = 9\n",
      "Score = 6\n",
      "Score = 15\n",
      "Score = 7\n",
      "Score = 7\n",
      "Score = 11\n",
      "Score = 7\n",
      "Score = 7\n",
      "Score = 7\n",
      "Score = 5\n",
      "Score = 8\n",
      "Score = 8\n",
      "Score = 10\n",
      "Score = 5\n",
      "Score = 6\n",
      "Score = 8\n",
      "Score over time = 7.74\n"
     ]
    }
   ],
   "source": [
    "# see how agent preforms after training\n",
    "num_of_episode_after_training = 100 \n",
    "rewards = []\n",
    "\n",
    "for episode in range(num_of_episode_after_training):\n",
    "    \n",
    "    state = env.reset()\n",
    "    total_rewards = 0\n",
    "\n",
    "    for step in range(max_steps):\n",
    "       \n",
    "        # Take the action that have the maximum expected future reward given that state\n",
    "        #action = np.argmax(q_table[state, :])\n",
    "        action = q_table[state].argmax()\n",
    "\n",
    "        new_state, reward, done, info = env.step(action)\n",
    "\n",
    "        total_rewards += reward\n",
    "\n",
    "        if done:\n",
    "            rewards.append(total_rewards)\n",
    "            print(\"Score = {}\".format(total_rewards))\n",
    "            break\n",
    "        # set new state as cuurent state\n",
    "        state = new_state\n",
    "\n",
    "env.close()\n",
    "\n",
    "# Calculate average reward\n",
    "print('Score over time = {}'.format(str(sum(rewards) / num_of_episode_after_training)))"
   ]
  }
 ],
 "metadata": {
  "kernelspec": {
   "display_name": "Python 3",
   "language": "python",
   "name": "python3"
  },
  "language_info": {
   "codemirror_mode": {
    "name": "ipython",
    "version": 3
   },
   "file_extension": ".py",
   "mimetype": "text/x-python",
   "name": "python",
   "nbconvert_exporter": "python",
   "pygments_lexer": "ipython3",
   "version": "3.8.5"
  }
 },
 "nbformat": 4,
 "nbformat_minor": 4
}
