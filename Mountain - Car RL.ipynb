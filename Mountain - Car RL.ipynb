{
 "cells": [
  {
   "cell_type": "markdown",
   "metadata": {},
   "source": [
    "### This program will solve the Taxi-Driver problem using RL Q-learning¶\n",
    " - Mountain - Car defines \"solving\" as getting average reward of -110.0 over 100 consecutive trials\n",
    " \n",
    " - Q-learning formula -\n",
    "\n",
    " <img src= \"q_learning.svg\" align=\"left\">"
   ]
  },
  {
   "cell_type": "code",
   "execution_count": 8,
   "metadata": {},
   "outputs": [],
   "source": [
    "import gym\n",
    "import numpy as np"
   ]
  },
  {
   "cell_type": "code",
   "execution_count": 9,
   "metadata": {},
   "outputs": [],
   "source": [
    "env = gym.make(\"MountainCar-v0\")"
   ]
  },
  {
   "cell_type": "code",
   "execution_count": 10,
   "metadata": {},
   "outputs": [
    {
     "name": "stdout",
     "output_type": "stream",
     "text": [
      "3\n"
     ]
    }
   ],
   "source": [
    "# print the action space size\n",
    "action_size = env.action_space.n\n",
    "print(action_size)"
   ]
  },
  {
   "cell_type": "code",
   "execution_count": 11,
   "metadata": {},
   "outputs": [
    {
     "name": "stdout",
     "output_type": "stream",
     "text": [
      "[0.6  0.07]\n",
      "[-1.2  -0.07]\n",
      "0.5\n"
     ]
    }
   ],
   "source": [
    "# print state space \n",
    "print(env.observation_space.high)\n",
    "print(env.observation_space.low)\n",
    "print(env.goal_position)"
   ]
  },
  {
   "cell_type": "code",
   "execution_count": 12,
   "metadata": {},
   "outputs": [
    {
     "name": "stdout",
     "output_type": "stream",
     "text": [
      "[0.09  0.007]\n"
     ]
    }
   ],
   "source": [
    "N = 20 # how many buckets\n",
    "windth_of_buckets = (env.observation_space.high - env.observation_space.low)/N\n",
    "print (windth_of_buckets)"
   ]
  },
  {
   "cell_type": "code",
   "execution_count": 13,
   "metadata": {},
   "outputs": [],
   "source": [
    "# this funcation is given a state and transrom it to corresponding discrete value\n",
    "def getDiscreteValue(state):\n",
    "    return (((state - env.observation_space.low) % N) / windth_of_buckets).astype(int)"
   ]
  },
  {
   "cell_type": "code",
   "execution_count": 14,
   "metadata": {},
   "outputs": [],
   "source": [
    "# initialize a Q - table of size 20X20X3,entry for each of the 3 action and pair of states\n",
    "q_table = np.random.uniform(low = -2 ,high = 0 , size = (N,N,action_size))"
   ]
  },
  {
   "cell_type": "code",
   "execution_count": 19,
   "metadata": {},
   "outputs": [],
   "source": [
    "# set standard RL parameters\n",
    "alpha = 0.1   # Learning Rate\n",
    "gemma = 0.99    # Discount Factor\n",
    "\n",
    "# Number of episodes \n",
    "num_of_episode = 7000 \n",
    "\n",
    "#  Exploration/Exploitation  parameters\n",
    "epsilon = 1.0  # Exploration rate\n",
    "max_epsilon = 1.0  # Exploration probability at start\n",
    "min_epsilon = 0.01  # Minimum exploration probability\n",
    "decay_rate = 0.01  # Exponential decay rate for exploration prob"
   ]
  },
  {
   "cell_type": "code",
   "execution_count": 20,
   "metadata": {},
   "outputs": [
    {
     "name": "stdout",
     "output_type": "stream",
     "text": [
      "End Training\n"
     ]
    }
   ],
   "source": [
    "# train the agent\n",
    "for episode in range(num_of_episode):\n",
    "    \n",
    "    # Reset the environment\n",
    "    state = env.reset()\n",
    "    \n",
    "    # discretize the state  \n",
    "    position, velocity = getDiscreteValue(state)\n",
    "    \n",
    "    done = False\n",
    "    \n",
    "    # render laste 10 episodes\n",
    "    if (episode > (num_of_episode-10)):\n",
    "        render = True\n",
    "    else:\n",
    "        render = False\n",
    "    \n",
    "    while not done:\n",
    "                \n",
    "        if render:\n",
    "            env.render()\n",
    "        \n",
    "        # choose an action according to epsilon-greedy policy\n",
    "        # If rand number < less than epsilon - take a random choice (exploration) \n",
    "        if np.random.uniform(0,1) < epsilon:\n",
    "            action = np.random.randint(0,2)\n",
    "       \n",
    "        # else take action with maximum expected future reward(exploitation)\n",
    "        else:\n",
    "            action = np.argmax(q_table[position,velocity,:])\n",
    "       \n",
    "        # take a step \n",
    "        new_state, reward, done, info = env.step(action)\n",
    "       \n",
    "        # discretize new state  \n",
    "        new_position, new_velocity = getDiscreteValue(new_state)\n",
    "        \n",
    "        # Update Q(s,a):= Q(s,a) + alpha * [R(s,a) + gamma * max Q(s',a') - Q(s,a)]\n",
    "        if not done:\n",
    "            q_table[position,velocity,action] = q_table[position,velocity,action] + alpha *(reward + gemma \n",
    "                                                * np.max(q_table[new_position,new_velocity]) \n",
    "                                                 - q_table[position,velocity,action])\n",
    "                                                \n",
    "        # if goal is reach update Q-value (reward = 0) \n",
    "        elif new_state[0] >= env.goal_position: \n",
    "            q_table[position,velocity,action] = 0\n",
    "        \n",
    "        # set new state as cuurent state\n",
    "        position = new_position \n",
    "        velocity = new_velocity\n",
    "   \n",
    "    # decrease epsilon \n",
    "    epsilon = min_epsilon + (max_epsilon - min_epsilon) * np.exp(-decay_rate * episode)\n",
    "    \n",
    "print(\"End Training\")"
   ]
  },
  {
   "cell_type": "code",
   "execution_count": 18,
   "metadata": {},
   "outputs": [
    {
     "name": "stdout",
     "output_type": "stream",
     "text": [
      "Average Reward of 100 games is -142.96\n"
     ]
    }
   ],
   "source": [
    "# see how agent preforms after training\n",
    "num_of_episode_after_training = 100\n",
    "total_reward = 0\n",
    "\n",
    "for episode in range(num_of_episode_after_training):\n",
    "    \n",
    "    state = env.reset()\n",
    "    \n",
    "    position, velocity = getDiscreteValue(state)\n",
    "    \n",
    "    done = False\n",
    "    counter = 0\n",
    "\n",
    "    while not done:\n",
    "       \n",
    "        counter += 1\n",
    "        \n",
    "        # Take the action that have the maximum expected future reward given that state\n",
    "        action = np.argmax(q_table[position,velocity,:])\n",
    "\n",
    "        new_state, reward, done, info = env.step(action)\n",
    "\n",
    "        new_position, new_velocity = getDiscreteValue(new_state)\n",
    "\n",
    "        position = new_position \n",
    "        velocity = new_velocity\n",
    "\n",
    "        total_reward += reward\n",
    "\n",
    "print(\"Average Reward of 100 games is {}\".format(total_reward/num_of_episode_after_training))    \n",
    "env.close()"
   ]
  }
 ],
 "metadata": {
  "kernelspec": {
   "display_name": "Python 3",
   "language": "python",
   "name": "python3"
  },
  "language_info": {
   "codemirror_mode": {
    "name": "ipython",
    "version": 3
   },
   "file_extension": ".py",
   "mimetype": "text/x-python",
   "name": "python",
   "nbconvert_exporter": "python",
   "pygments_lexer": "ipython3",
   "version": "3.8.5"
  }
 },
 "nbformat": 4,
 "nbformat_minor": 4
}
