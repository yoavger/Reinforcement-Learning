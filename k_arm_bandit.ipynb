{
 "cells": [
  {
   "cell_type": "code",
   "execution_count": 1,
   "metadata": {},
   "outputs": [],
   "source": [
    "import numpy as np \n",
    "import pandas as pd\n",
    "import matplotlib.pyplot as plt"
   ]
  },
  {
   "cell_type": "code",
   "execution_count": 2,
   "metadata": {},
   "outputs": [],
   "source": [
    "def softmax(beta, q):\n",
    "    return (np.exp(q / (beta+1e-4))) / sum(np.exp(q / (beta+1e-4)))\n",
    "\n",
    "def prediction_error(a , b): return a-b\n",
    "\n",
    "def update_q_table(q_table,action,reward,alpha):\n",
    "    q_table[action] = q_table[action] + (alpha * (prediction_error(reward,q_table[action])))"
   ]
  },
  {
   "cell_type": "code",
   "execution_count": 3,
   "metadata": {},
   "outputs": [],
   "source": [
    "def sim_a_policy():\n",
    "    \n",
    "    # set 1 to pritn every trail \n",
    "    PRINT_EACH_TRAIL = 0\n",
    "    \n",
    "    # set parameters\n",
    "\n",
    "    # set num of trails\n",
    "    num_of_trails = 30_000\n",
    "\n",
    "    # set num of arms\n",
    "    num_of_arms = 4\n",
    "\n",
    "    # create the q_table \n",
    "    q_table = np.zeros(num_of_arms)\n",
    "\n",
    "    # set Learning Rate -  α  \n",
    "    alpha = 0.1\n",
    "\n",
    "    # set beta - temperature - β (sowftMax)\n",
    "    beta = 0.1\n",
    "\n",
    "    # probabilty for a reward for each action in stage 2\n",
    "    prob_reward = np.array(\n",
    "                            [.3,.9,.1,.1]\n",
    "                        )\n",
    "\n",
    "    reward_list = np.zeros(num_of_trails)\n",
    "\n",
    "    action_list = np.zeros(num_of_trails)\n",
    "\n",
    "    regret_list = np.zeros(num_of_trails)\n",
    "\n",
    "    sum_of_reg = 0\n",
    "       \n",
    "    for t in range(num_of_trails):\n",
    "\n",
    "        # calc softMax\n",
    "        prob = softmax(beta,q_table)\n",
    "        \n",
    "        # choose an action according to sowftMax\n",
    "        action = np.random.choice(range(num_of_arms) , p = prob)\n",
    "        action_list[t] = action\n",
    "\n",
    "        # cheek if the trail is rewarded according to probs \n",
    "        reward = np.random.choice([0,1] , p = [1-prob_reward[action],prob_reward[action]])\n",
    "\n",
    "        reward_list[t] = reward\n",
    "\n",
    "        sum_of_reg += prob_reward[int(action)]\n",
    "\n",
    "        regret_list[t] = t*np.max(prob_reward) - sum_of_reg\n",
    "\n",
    "        # update q_table according to q_learning formula\n",
    "        update_q_table(q_table,action,reward,alpha)\n",
    "    \n",
    "    return {'action' :action_list ,  'reward' : reward_list , 'regret' : regret_list};"
   ]
  },
  {
   "cell_type": "code",
   "execution_count": 4,
   "metadata": {},
   "outputs": [
    {
     "name": "stdout",
     "output_type": "stream",
     "text": [
      "The avarge rewared is = 0.8980333333333334\n",
      "   action  reward  regret\n",
      "0     2.0     0.0    -0.1\n",
      "1     3.0     0.0     0.7\n",
      "2     3.0     0.0     1.5\n",
      "3     0.0     0.0     2.1\n",
      "4     2.0     0.0     2.9\n",
      "5     0.0     0.0     3.5\n",
      "6     0.0     1.0     4.1\n",
      "7     0.0     0.0     4.7\n",
      "8     0.0     1.0     5.3\n",
      "9     1.0     1.0     5.3\n",
      "        reward  regret\n",
      "action                \n",
      "0.0        112     112\n",
      "1.0      29869   29869\n",
      "2.0          9       9\n",
      "3.0         10      10\n"
     ]
    }
   ],
   "source": [
    "data = sim_a_policy()\n",
    "df = pd.DataFrame(data,columns = ['action' ,'reward','regret'])\n",
    "print(\"The avarge rewared is = {}\".format(df['reward'].mean()))\n",
    "\n",
    "print(df.head(10))\n",
    "print(df.groupby(['action']).count())"
   ]
  },
  {
   "cell_type": "code",
   "execution_count": 5,
   "metadata": {},
   "outputs": [
    {
     "data": {
      "image/png": "[encoded data removed]",
      "text/plain": [
       "<Figure size 432x288 with 1 Axes>"
      ]
     },
     "metadata": {
      "needs_background": "light"
     },
     "output_type": "display_data"
    }
   ],
   "source": [
    "plt.plot(data['regret'], color=\"green\")\n",
    "plt.xlabel(\"Trails\")\n",
    "plt.ylabel(\"Regret\")\n",
    "plt.show()"
   ]
  }
 ],
 "metadata": {
  "kernelspec": {
   "display_name": "Python 3",
   "language": "python",
   "name": "python3"
  },
  "language_info": {
   "codemirror_mode": {
    "name": "ipython",
    "version": 3
   },
   "file_extension": ".py",
   "mimetype": "text/x-python",
   "name": "python",
   "nbconvert_exporter": "python",
   "pygments_lexer": "ipython3",
   "version": "3.8.5"
  }
 },
 "nbformat": 4,
 "nbformat_minor": 4
}
